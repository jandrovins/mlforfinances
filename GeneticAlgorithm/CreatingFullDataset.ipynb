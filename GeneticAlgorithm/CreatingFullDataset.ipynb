{
 "cells": [
  {
   "cell_type": "code",
   "execution_count": 1,
   "metadata": {},
   "outputs": [],
   "source": [
    "import pandas as pd\n",
    "from talib import abstract\n",
    "import numpy as np"
   ]
  },
  {
   "cell_type": "code",
   "execution_count": 2,
   "metadata": {},
   "outputs": [
    {
     "data": {
      "text/html": [
       "<div>\n",
       "<style scoped>\n",
       "    .dataframe tbody tr th:only-of-type {\n",
       "        vertical-align: middle;\n",
       "    }\n",
       "\n",
       "    .dataframe tbody tr th {\n",
       "        vertical-align: top;\n",
       "    }\n",
       "\n",
       "    .dataframe thead th {\n",
       "        text-align: right;\n",
       "    }\n",
       "</style>\n",
       "<table border=\"1\" class=\"dataframe\">\n",
       "  <thead>\n",
       "    <tr style=\"text-align: right;\">\n",
       "      <th></th>\n",
       "      <th>open</th>\n",
       "      <th>high</th>\n",
       "      <th>low</th>\n",
       "      <th>close</th>\n",
       "      <th>adj close</th>\n",
       "      <th>volume</th>\n",
       "    </tr>\n",
       "    <tr>\n",
       "      <th>Date</th>\n",
       "      <th></th>\n",
       "      <th></th>\n",
       "      <th></th>\n",
       "      <th></th>\n",
       "      <th></th>\n",
       "      <th></th>\n",
       "    </tr>\n",
       "  </thead>\n",
       "  <tbody>\n",
       "    <tr>\n",
       "      <th>2005-01-03</th>\n",
       "      <td>12.8000</td>\n",
       "      <td>12.9350</td>\n",
       "      <td>12.6825</td>\n",
       "      <td>12.7025</td>\n",
       "      <td>11.016774</td>\n",
       "      <td>955600</td>\n",
       "    </tr>\n",
       "    <tr>\n",
       "      <th>2005-01-04</th>\n",
       "      <td>12.7125</td>\n",
       "      <td>12.7250</td>\n",
       "      <td>12.5825</td>\n",
       "      <td>12.6325</td>\n",
       "      <td>10.956066</td>\n",
       "      <td>1304000</td>\n",
       "    </tr>\n",
       "    <tr>\n",
       "      <th>2005-01-05</th>\n",
       "      <td>12.6275</td>\n",
       "      <td>12.7250</td>\n",
       "      <td>12.5950</td>\n",
       "      <td>12.6500</td>\n",
       "      <td>10.971242</td>\n",
       "      <td>776800</td>\n",
       "    </tr>\n",
       "    <tr>\n",
       "      <th>2005-01-06</th>\n",
       "      <td>12.7125</td>\n",
       "      <td>12.7625</td>\n",
       "      <td>12.6475</td>\n",
       "      <td>12.6475</td>\n",
       "      <td>10.969073</td>\n",
       "      <td>594400</td>\n",
       "    </tr>\n",
       "    <tr>\n",
       "      <th>2005-01-07</th>\n",
       "      <td>12.6375</td>\n",
       "      <td>12.6500</td>\n",
       "      <td>12.5625</td>\n",
       "      <td>12.5975</td>\n",
       "      <td>10.925709</td>\n",
       "      <td>456800</td>\n",
       "    </tr>\n",
       "  </tbody>\n",
       "</table>\n",
       "</div>"
      ],
      "text/plain": [
       "               open     high      low    close  adj close   volume\n",
       "Date                                                              \n",
       "2005-01-03  12.8000  12.9350  12.6825  12.7025  11.016774   955600\n",
       "2005-01-04  12.7125  12.7250  12.5825  12.6325  10.956066  1304000\n",
       "2005-01-05  12.6275  12.7250  12.5950  12.6500  10.971242   776800\n",
       "2005-01-06  12.7125  12.7625  12.6475  12.6475  10.969073   594400\n",
       "2005-01-07  12.6375  12.6500  12.5625  12.5975  10.925709   456800"
      ]
     },
     "execution_count": 2,
     "metadata": {},
     "output_type": "execute_result"
    }
   ],
   "source": [
    "stock = \"RMD\"\n",
    "\n",
    "df = pd.read_csv(f\"15YearsDatasets/{stock}.csv\", parse_dates=True, index_col=0)\n",
    "df.columns = [\"open\", \"high\", \"low\", \"close\", \"adj close\", \"volume\"]\n",
    "df.head()"
   ]
  },
  {
   "cell_type": "code",
   "execution_count": 3,
   "metadata": {},
   "outputs": [],
   "source": [
    "df.interpolate(inplace=True)"
   ]
  },
  {
   "cell_type": "code",
   "execution_count": 4,
   "metadata": {},
   "outputs": [],
   "source": [
    "df[\"SMA\"] = abstract.SMA(df, timeperiod=7)\n",
    "df[\"WMA\"] = abstract.WMA(df, timeperiod=7)"
   ]
  },
  {
   "cell_type": "code",
   "execution_count": 5,
   "metadata": {},
   "outputs": [],
   "source": [
    "df[\"RSI\"] = abstract.RSI(df, timeperiod=7)"
   ]
  },
  {
   "cell_type": "code",
   "execution_count": 6,
   "metadata": {},
   "outputs": [],
   "source": [
    "df[\"CCI\"] = abstract.CCI(df, timeperiod=10)\n",
    "df[\"AD\"] = abstract.AD(df, timeperiod=10)"
   ]
  },
  {
   "cell_type": "code",
   "execution_count": 7,
   "metadata": {},
   "outputs": [],
   "source": [
    "df[\"STOCHRSIk\"] = abstract.STOCHRSI(df, timeperiod=7)[\"fastk\"]\n",
    "df[\"STOCHRSId\"] = abstract.STOCHRSI(df, timeperiod=7)[\"fastd\"]\n",
    "df[\"WILLR\"] = abstract.WILLR(df, timeperiod=7)"
   ]
  },
  {
   "cell_type": "code",
   "execution_count": 8,
   "metadata": {},
   "outputs": [],
   "source": [
    "df[\"MACD\"] = abstract.MACDFIX(df)[\"macd\"]\n",
    "df[\"MACDsignal\"] = abstract.MACDFIX(df)[\"macdsignal\"]"
   ]
  },
  {
   "cell_type": "code",
   "execution_count": 9,
   "metadata": {},
   "outputs": [],
   "source": [
    "df = df.iloc[33:]"
   ]
  },
  {
   "cell_type": "markdown",
   "metadata": {},
   "source": [
    "# ABOVE USED IN PAPER "
   ]
  },
  {
   "cell_type": "code",
   "execution_count": 10,
   "metadata": {},
   "outputs": [],
   "source": [
    "#df[\"ROC4\"] = abstract.ROCP(df, timeperiod=4) * 100"
   ]
  },
  {
   "cell_type": "code",
   "execution_count": 11,
   "metadata": {},
   "outputs": [],
   "source": [
    "#df[\"TRIX\"] = abstract.TRIX(df)"
   ]
  },
  {
   "cell_type": "code",
   "execution_count": 12,
   "metadata": {},
   "outputs": [
    {
     "name": "stderr",
     "output_type": "stream",
     "text": [
      "<ipython-input-12-b25718390c1c>:5: SettingWithCopyWarning: \n",
      "A value is trying to be set on a copy of a slice from a DataFrame.\n",
      "Try using .loc[row_indexer,col_indexer] = value instead\n",
      "\n",
      "See the caveats in the documentation: https://pandas.pydata.org/pandas-docs/stable/user_guide/indexing.html#returning-a-view-versus-a-copy\n",
      "  df[\"SMA_trend\"] = df.apply(lambda x: MA_trend(x[\"SMA\"], x[\"close\"]), axis=1)\n",
      "<ipython-input-12-b25718390c1c>:6: SettingWithCopyWarning: \n",
      "A value is trying to be set on a copy of a slice from a DataFrame.\n",
      "Try using .loc[row_indexer,col_indexer] = value instead\n",
      "\n",
      "See the caveats in the documentation: https://pandas.pydata.org/pandas-docs/stable/user_guide/indexing.html#returning-a-view-versus-a-copy\n",
      "  df[\"WMA_trend\"] = df.apply(lambda x: MA_trend(x[\"WMA\"], x[\"close\"]), axis=1)\n"
     ]
    }
   ],
   "source": [
    "# Select trend from SMA14 and SMA 50\n",
    "def MA_trend(ma, price):\n",
    "    return 1 if price > ma else -1\n",
    "\n",
    "df[\"SMA_trend\"] = df.apply(lambda x: MA_trend(x[\"SMA\"], x[\"close\"]), axis=1)\n",
    "df[\"WMA_trend\"] = df.apply(lambda x: MA_trend(x[\"WMA\"], x[\"close\"]), axis=1)"
   ]
  },
  {
   "cell_type": "code",
   "execution_count": 13,
   "metadata": {},
   "outputs": [
    {
     "name": "stderr",
     "output_type": "stream",
     "text": [
      "<ipython-input-13-bd738f0b9da3>:18: SettingWithCopyWarning: \n",
      "A value is trying to be set on a copy of a slice from a DataFrame.\n",
      "Try using .loc[row_indexer,col_indexer] = value instead\n",
      "\n",
      "See the caveats in the documentation: https://pandas.pydata.org/pandas-docs/stable/user_guide/indexing.html#returning-a-view-versus-a-copy\n",
      "  df[\"RSI_trend\"] = RSI_trend\n"
     ]
    }
   ],
   "source": [
    "# Select trend from RSI\n",
    "RSI_trend = [0] * len(df)\n",
    "for i in range(len(df)):\n",
    "    if i == 0:\n",
    "        continue\n",
    "    lastrsi = df.loc[df.index[i-1], \"RSI\"]\n",
    "    rsi = df.loc[df.index[i], \"RSI\"]\n",
    "    if rsi > 70:\n",
    "        RSI_trend[i] = -1\n",
    "    elif rsi < 30:\n",
    "        RSI_trend[i] = 1\n",
    "    elif rsi > lastrsi:\n",
    "        RSI_trend[i] = 1\n",
    "    else:\n",
    "        RSI_trend[i] = -1\n",
    "\n",
    "\n",
    "df[\"RSI_trend\"] = RSI_trend"
   ]
  },
  {
   "cell_type": "code",
   "execution_count": 14,
   "metadata": {},
   "outputs": [
    {
     "name": "stderr",
     "output_type": "stream",
     "text": [
      "<ipython-input-14-a364b23c8fc3>:53: SettingWithCopyWarning: \n",
      "A value is trying to be set on a copy of a slice from a DataFrame.\n",
      "Try using .loc[row_indexer,col_indexer] = value instead\n",
      "\n",
      "See the caveats in the documentation: https://pandas.pydata.org/pandas-docs/stable/user_guide/indexing.html#returning-a-view-versus-a-copy\n",
      "  df[\"STOCHRSIk_trend\"] = STOCHRSIk_trend\n",
      "<ipython-input-14-a364b23c8fc3>:54: SettingWithCopyWarning: \n",
      "A value is trying to be set on a copy of a slice from a DataFrame.\n",
      "Try using .loc[row_indexer,col_indexer] = value instead\n",
      "\n",
      "See the caveats in the documentation: https://pandas.pydata.org/pandas-docs/stable/user_guide/indexing.html#returning-a-view-versus-a-copy\n",
      "  df[\"STOCHRSId_trend\"] = STOCHRSId_trend\n",
      "<ipython-input-14-a364b23c8fc3>:55: SettingWithCopyWarning: \n",
      "A value is trying to be set on a copy of a slice from a DataFrame.\n",
      "Try using .loc[row_indexer,col_indexer] = value instead\n",
      "\n",
      "See the caveats in the documentation: https://pandas.pydata.org/pandas-docs/stable/user_guide/indexing.html#returning-a-view-versus-a-copy\n",
      "  df[\"WILLR_trend\"] = WILLR_trend\n",
      "<ipython-input-14-a364b23c8fc3>:56: SettingWithCopyWarning: \n",
      "A value is trying to be set on a copy of a slice from a DataFrame.\n",
      "Try using .loc[row_indexer,col_indexer] = value instead\n",
      "\n",
      "See the caveats in the documentation: https://pandas.pydata.org/pandas-docs/stable/user_guide/indexing.html#returning-a-view-versus-a-copy\n",
      "  df[\"CCI_trend\"] = CCI_trend\n",
      "<ipython-input-14-a364b23c8fc3>:57: SettingWithCopyWarning: \n",
      "A value is trying to be set on a copy of a slice from a DataFrame.\n",
      "Try using .loc[row_indexer,col_indexer] = value instead\n",
      "\n",
      "See the caveats in the documentation: https://pandas.pydata.org/pandas-docs/stable/user_guide/indexing.html#returning-a-view-versus-a-copy\n",
      "  df[\"AD_trend\"] = AD_trend\n"
     ]
    }
   ],
   "source": [
    "# Select buy trend from STOCHRSI\n",
    "STOCHRSIk_trend = [0] * len(df)\n",
    "STOCHRSId_trend = [0] * len(df)\n",
    "WILLR_trend = [0] * len(df)\n",
    "CCI_trend = [0] * len(df)\n",
    "AD_trend = [0] * len(df)\n",
    "for i in range(len(df)) :\n",
    "    if i == 0:\n",
    "        continue\n",
    "    lastk = df.loc[df.index[i-1], \"STOCHRSIk\"]\n",
    "    lastd = df.loc[df.index[i-1], \"STOCHRSId\"]\n",
    "    lastwillr = df.loc[df.index[i-1], \"WILLR\"]\n",
    "    lastcci = df.loc[df.index[i-1], \"CCI\"]\n",
    "    lastad = df.loc[df.index[i-1], \"AD\"]\n",
    "    \n",
    "    k = df.loc[df.index[i], \"STOCHRSIk\"]\n",
    "    d = df.loc[df.index[i], \"STOCHRSId\"]\n",
    "    willr = df.loc[df.index[i], \"WILLR\"]\n",
    "    cci = df.loc[df.index[i], \"CCI\"]\n",
    "    ad = df.loc[df.index[i], \"AD\"]\n",
    "    # identify trends\n",
    "    # K\n",
    "    if k > lastk:\n",
    "        STOCHRSIk_trend[i] = 1\n",
    "    else:\n",
    "        STOCHRSIk_trend[i] = -1\n",
    "    # D\n",
    "    if d > lastd:\n",
    "        STOCHRSId_trend = 1\n",
    "    else:\n",
    "        STOCHRSId_trend = -1\n",
    "    # WILLR\n",
    "    if willr > lastwillr:\n",
    "        WILLR_trend = 1\n",
    "    else:\n",
    "        WILLR_trend = -1\n",
    "    # CCI\n",
    "    if cci > 150:\n",
    "        CCI_trend = -1\n",
    "    elif cci < -150:\n",
    "        CCI_trend = 1\n",
    "    elif cci > lastcci:\n",
    "        CCI_trend = 1\n",
    "    else:\n",
    "        CCI_trend = -1\n",
    "    # WILLR\n",
    "    if ad > lastad:\n",
    "        AD_trend = 1\n",
    "    else:\n",
    "        AD_trend = -1\n",
    "        \n",
    "        \n",
    "df[\"STOCHRSIk_trend\"] = STOCHRSIk_trend\n",
    "df[\"STOCHRSId_trend\"] = STOCHRSId_trend\n",
    "df[\"WILLR_trend\"] = WILLR_trend\n",
    "df[\"CCI_trend\"] = CCI_trend\n",
    "df[\"AD_trend\"] = AD_trend"
   ]
  },
  {
   "cell_type": "code",
   "execution_count": 15,
   "metadata": {},
   "outputs": [
    {
     "name": "stderr",
     "output_type": "stream",
     "text": [
      "<ipython-input-15-da4b33cb6bde>:8: SettingWithCopyWarning: \n",
      "A value is trying to be set on a copy of a slice from a DataFrame.\n",
      "Try using .loc[row_indexer,col_indexer] = value instead\n",
      "\n",
      "See the caveats in the documentation: https://pandas.pydata.org/pandas-docs/stable/user_guide/indexing.html#returning-a-view-versus-a-copy\n",
      "  df[\"MACD_trend\"] = df.apply(lambda x: MACD_trend(x[\"MACD\"], x[\"MACDsignal\"]), axis=1)\n"
     ]
    }
   ],
   "source": [
    "# Select trend from MACD\n",
    "def MACD_trend(macd, signal):\n",
    "    if macd > signal:\n",
    "        return 1\n",
    "    else:\n",
    "        return -1\n",
    "\n",
    "df[\"MACD_trend\"] = df.apply(lambda x: MACD_trend(x[\"MACD\"], x[\"MACDsignal\"]), axis=1)"
   ]
  },
  {
   "cell_type": "code",
   "execution_count": 16,
   "metadata": {},
   "outputs": [],
   "source": [
    "# Select trend from TRIX\n",
    "def TRIX_trend(trix):\n",
    "    if trix > 0:\n",
    "        return 1\n",
    "    else:\n",
    "        return -1\n",
    "\n",
    "#df[\"TRIX_trend\"] = df.apply(lambda x: TRIX_trend(x[\"TRIX\"]), axis=1)"
   ]
  },
  {
   "cell_type": "code",
   "execution_count": 17,
   "metadata": {},
   "outputs": [
    {
     "data": {
      "text/plain": [
       "Index(['open', 'high', 'low', 'close', 'adj close', 'volume', 'SMA', 'WMA',\n",
       "       'RSI', 'CCI', 'AD', 'STOCHRSIk', 'STOCHRSId', 'WILLR', 'MACD',\n",
       "       'MACDsignal', 'SMA_trend', 'WMA_trend', 'RSI_trend', 'STOCHRSIk_trend',\n",
       "       'STOCHRSId_trend', 'WILLR_trend', 'CCI_trend', 'AD_trend',\n",
       "       'MACD_trend'],\n",
       "      dtype='object')"
      ]
     },
     "execution_count": 17,
     "metadata": {},
     "output_type": "execute_result"
    }
   ],
   "source": [
    "df.columns"
   ]
  },
  {
   "cell_type": "code",
   "execution_count": 18,
   "metadata": {},
   "outputs": [],
   "source": [
    "df = df.iloc[1:]\n",
    "outputdf = df.drop([\"open\", \"high\", \"low\", \"volume\", \"adj close\",\n",
    "         'SMA', 'WMA', 'RSI', 'CCI', 'AD',\n",
    "         'STOCHRSIk', 'STOCHRSId',\n",
    "         'WILLR', 'MACD', 'MACDsignal'], axis=1)"
   ]
  },
  {
   "cell_type": "code",
   "execution_count": 19,
   "metadata": {},
   "outputs": [
    {
     "data": {
      "text/plain": [
       "False"
      ]
     },
     "execution_count": 19,
     "metadata": {},
     "output_type": "execute_result"
    }
   ],
   "source": [
    "outputdf.isnull().values.any()"
   ]
  },
  {
   "cell_type": "code",
   "execution_count": 20,
   "metadata": {},
   "outputs": [
    {
     "data": {
      "text/plain": [
       "3741"
      ]
     },
     "execution_count": 20,
     "metadata": {},
     "output_type": "execute_result"
    }
   ],
   "source": [
    "len(outputdf)"
   ]
  },
  {
   "cell_type": "code",
   "execution_count": 21,
   "metadata": {},
   "outputs": [
    {
     "data": {
      "text/html": [
       "<div>\n",
       "<style scoped>\n",
       "    .dataframe tbody tr th:only-of-type {\n",
       "        vertical-align: middle;\n",
       "    }\n",
       "\n",
       "    .dataframe tbody tr th {\n",
       "        vertical-align: top;\n",
       "    }\n",
       "\n",
       "    .dataframe thead th {\n",
       "        text-align: right;\n",
       "    }\n",
       "</style>\n",
       "<table border=\"1\" class=\"dataframe\">\n",
       "  <thead>\n",
       "    <tr style=\"text-align: right;\">\n",
       "      <th></th>\n",
       "      <th>close</th>\n",
       "      <th>SMA_trend</th>\n",
       "      <th>WMA_trend</th>\n",
       "      <th>RSI_trend</th>\n",
       "      <th>STOCHRSIk_trend</th>\n",
       "      <th>STOCHRSId_trend</th>\n",
       "      <th>WILLR_trend</th>\n",
       "      <th>CCI_trend</th>\n",
       "      <th>AD_trend</th>\n",
       "      <th>MACD_trend</th>\n",
       "    </tr>\n",
       "    <tr>\n",
       "      <th>Date</th>\n",
       "      <th></th>\n",
       "      <th></th>\n",
       "      <th></th>\n",
       "      <th></th>\n",
       "      <th></th>\n",
       "      <th></th>\n",
       "      <th></th>\n",
       "      <th></th>\n",
       "      <th></th>\n",
       "      <th></th>\n",
       "    </tr>\n",
       "  </thead>\n",
       "  <tbody>\n",
       "    <tr>\n",
       "      <th>2005-02-22</th>\n",
       "      <td>14.7750</td>\n",
       "      <td>-1</td>\n",
       "      <td>-1</td>\n",
       "      <td>-1</td>\n",
       "      <td>-1</td>\n",
       "      <td>1</td>\n",
       "      <td>1</td>\n",
       "      <td>1</td>\n",
       "      <td>1</td>\n",
       "      <td>1</td>\n",
       "    </tr>\n",
       "    <tr>\n",
       "      <th>2005-02-23</th>\n",
       "      <td>14.7600</td>\n",
       "      <td>-1</td>\n",
       "      <td>-1</td>\n",
       "      <td>-1</td>\n",
       "      <td>-1</td>\n",
       "      <td>1</td>\n",
       "      <td>1</td>\n",
       "      <td>1</td>\n",
       "      <td>1</td>\n",
       "      <td>-1</td>\n",
       "    </tr>\n",
       "    <tr>\n",
       "      <th>2005-02-24</th>\n",
       "      <td>14.7550</td>\n",
       "      <td>-1</td>\n",
       "      <td>-1</td>\n",
       "      <td>-1</td>\n",
       "      <td>-1</td>\n",
       "      <td>1</td>\n",
       "      <td>1</td>\n",
       "      <td>1</td>\n",
       "      <td>1</td>\n",
       "      <td>-1</td>\n",
       "    </tr>\n",
       "    <tr>\n",
       "      <th>2005-02-25</th>\n",
       "      <td>14.7950</td>\n",
       "      <td>-1</td>\n",
       "      <td>-1</td>\n",
       "      <td>1</td>\n",
       "      <td>1</td>\n",
       "      <td>1</td>\n",
       "      <td>1</td>\n",
       "      <td>1</td>\n",
       "      <td>1</td>\n",
       "      <td>-1</td>\n",
       "    </tr>\n",
       "    <tr>\n",
       "      <th>2005-02-28</th>\n",
       "      <td>14.7375</td>\n",
       "      <td>-1</td>\n",
       "      <td>-1</td>\n",
       "      <td>-1</td>\n",
       "      <td>-1</td>\n",
       "      <td>1</td>\n",
       "      <td>1</td>\n",
       "      <td>1</td>\n",
       "      <td>1</td>\n",
       "      <td>-1</td>\n",
       "    </tr>\n",
       "  </tbody>\n",
       "</table>\n",
       "</div>"
      ],
      "text/plain": [
       "              close  SMA_trend  WMA_trend  RSI_trend  STOCHRSIk_trend  \\\n",
       "Date                                                                    \n",
       "2005-02-22  14.7750         -1         -1         -1               -1   \n",
       "2005-02-23  14.7600         -1         -1         -1               -1   \n",
       "2005-02-24  14.7550         -1         -1         -1               -1   \n",
       "2005-02-25  14.7950         -1         -1          1                1   \n",
       "2005-02-28  14.7375         -1         -1         -1               -1   \n",
       "\n",
       "            STOCHRSId_trend  WILLR_trend  CCI_trend  AD_trend  MACD_trend  \n",
       "Date                                                                       \n",
       "2005-02-22                1            1          1         1           1  \n",
       "2005-02-23                1            1          1         1          -1  \n",
       "2005-02-24                1            1          1         1          -1  \n",
       "2005-02-25                1            1          1         1          -1  \n",
       "2005-02-28                1            1          1         1          -1  "
      ]
     },
     "execution_count": 21,
     "metadata": {},
     "output_type": "execute_result"
    }
   ],
   "source": [
    "outputdf.head()"
   ]
  },
  {
   "cell_type": "code",
   "execution_count": 22,
   "metadata": {},
   "outputs": [],
   "source": [
    "from pathlib import Path\n",
    "path = Path(f\"15YearsDatasets/{stock}/\")\n",
    "path.mkdir(parents=True, exist_ok=True)\n",
    "outputdf.to_csv(f\"{path}/{stock}trends2.csv\", index=False)"
   ]
  },
  {
   "cell_type": "code",
   "execution_count": 23,
   "metadata": {},
   "outputs": [],
   "source": [
    "# Use 70% for training, and the rest for validation\n",
    "perc70 = int(len(outputdf) * 0.7)\n",
    "training_df = outputdf.iloc[:perc70]\n",
    "validation_df = outputdf.iloc[perc70:]"
   ]
  },
  {
   "cell_type": "code",
   "execution_count": 24,
   "metadata": {},
   "outputs": [],
   "source": [
    "training_df.to_csv(f\"{path}/{stock}training.csv\", index=False)\n",
    "validation_df.to_csv(f\"{path}/{stock}validation.csv\", index=False)"
   ]
  },
  {
   "cell_type": "code",
   "execution_count": null,
   "metadata": {},
   "outputs": [],
   "source": []
  }
 ],
 "metadata": {
  "kernelspec": {
   "display_name": "Python 3",
   "language": "python",
   "name": "python3"
  },
  "language_info": {
   "codemirror_mode": {
    "name": "ipython",
    "version": 3
   },
   "file_extension": ".py",
   "mimetype": "text/x-python",
   "name": "python",
   "nbconvert_exporter": "python",
   "pygments_lexer": "ipython3",
   "version": "3.9.0"
  }
 },
 "nbformat": 4,
 "nbformat_minor": 4
}
