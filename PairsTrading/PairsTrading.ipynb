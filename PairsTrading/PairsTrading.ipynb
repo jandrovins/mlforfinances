{
 "cells": [
  {
   "cell_type": "markdown",
   "metadata": {},
   "source": [
    "# Pairs Trading\n",
    "\n",
    "This trading strategy is based upon mathematical analysis, it states that is you have a pair of assets $X$ and $Y$ that have some undelying economic link, for example two companies that manufacture the same product, said economic link can be represented with a methematical model upon which we can make trades.\n",
    "\n",
    "## Cointegration\n",
    "\n",
    "Cointegration is the fundamental way in which we will find these pairs of assets, therefore we must exlain what cointegration is. \n",
    "\n",
    "We will start by defining a stationary process, we say something is stationary in the wide sense when it's joint probability distribution does not change when shifted in time, meaning that variables such as mean and variance will be constant over time, this is relevant, because most statistical tests assume stationarity, and therefore not having stationary data could lead to results that are not useful, or even worse could result in errors. An example of this is the use of the mean of a series as a prediction for future behaviour; in a stationary series the means does an okay job at predictiong future values, not great but useful, while the mean of a non-stationary function tells us nothing about its future behaviour. In order to test for stationarity we use $p-values$ acording to the augmented Dickey-Fuller test. In gneral a $p-value$ of less than 5% means the null hypothesis can be rejected (the null hypothesis being that the data are non-stationary).\n",
    "\n",
    "There is another important definition that must be made before we go on to explain what cointegrations is, and that would be what the orders of integration are. The fist order of integration is $I(0)$, this order of integration is really hard to test for given any slightly large dataset, but any stationary process has an integration order of 0. In order to get a series with an order of integration of 1, what must be done is take an $I(0)$ series and use discrete integration on it (which would be to commulatively sum it). And so on, in order to get an $I(2)$ series we use discrete integration on a $I(1)$ series, and to get an $I(3)$ series we commulatively sun an $I(2)$ series.\n",
    "\n",
    "Now, finally, for some set of time series $(X_1, X_2, ..., X_k)$ if all the time series are $I(1)$ and there is a linear combination of them that is $I(0)$, then we can say that this set of time series is cointegrated. Intitively we can state that there is cointegration between two series if their difference is mean reverting, which means that it is centered around and hovers around the mean of the series abtaining by substracting the two cointegrated series. For more specific purposes, we will use the Engle-Granger two-step cointegration test foind in the *statsmodels* python library. This is the base of pairs trading, because if we find two assets with cointegrated price-time series, we have reason to believe that there is a relyable economic link betwen these two assets."
   ]
  },
  {
   "cell_type": "code",
   "execution_count": 1,
   "metadata": {},
   "outputs": [],
   "source": [
    "import numpy as np\n",
    "import pandas as pd\n",
    "import matplotlib.pyplot as plt\n",
    "import yfinance as yf\n",
    "import seaborn\n",
    "import statsmodels\n",
    "import statsmodels.api as sm\n",
    "from statsmodels.tsa.stattools import coint\n",
    "import datetime\n",
    "from datetime import timedelta"
   ]
  },
  {
   "cell_type": "markdown",
   "metadata": {},
   "source": [
    "# Finding Assets with Cointegrated Prices\n",
    "\n",
    "In order to do this we will takje a two step approach. In order to avoid the multiple comparison bias, we will begin by defining a group of assets that we have reason to believe have cointegrated prices, this reason could be either that they both sell or produce the same product, or that they both belong to the same supply chain. Then, after identifying this set of assets we will apply the Engle-Gartener two-step cointegration method to every possible pair.\n",
    "\n",
    "For this example we will use assets that belong to the oit industry. In this case: Occidental Petroleum Corporation (OXY), Oasis Petroleum Inc. (OAS), Callon Petroleum Company (CPE), Abraxas Petroleum Corporation (AXAS), Marathon Petroleum Corporation (MPC)."
   ]
  },
  {
   "cell_type": "code",
   "execution_count": 2,
   "metadata": {},
   "outputs": [
    {
     "name": "stdout",
     "output_type": "stream",
     "text": [
      "[*********************100%***********************]  5 of 5 completed\n"
     ]
    },
    {
     "data": {
      "text/html": [
       "<div>\n",
       "<style scoped>\n",
       "    .dataframe tbody tr th:only-of-type {\n",
       "        vertical-align: middle;\n",
       "    }\n",
       "\n",
       "    .dataframe tbody tr th {\n",
       "        vertical-align: top;\n",
       "    }\n",
       "\n",
       "    .dataframe thead th {\n",
       "        text-align: right;\n",
       "    }\n",
       "</style>\n",
       "<table border=\"1\" class=\"dataframe\">\n",
       "  <thead>\n",
       "    <tr style=\"text-align: right;\">\n",
       "      <th></th>\n",
       "      <th>AXAS</th>\n",
       "      <th>CPE</th>\n",
       "      <th>MPC</th>\n",
       "      <th>OAS</th>\n",
       "      <th>OXY</th>\n",
       "    </tr>\n",
       "    <tr>\n",
       "      <th>Date</th>\n",
       "      <th></th>\n",
       "      <th></th>\n",
       "      <th></th>\n",
       "      <th></th>\n",
       "      <th></th>\n",
       "    </tr>\n",
       "  </thead>\n",
       "  <tbody>\n",
       "    <tr>\n",
       "      <th>2018-07-16</th>\n",
       "      <td>55.400002</td>\n",
       "      <td>108.599998</td>\n",
       "      <td>71.419998</td>\n",
       "      <td>11.90</td>\n",
       "      <td>82.529999</td>\n",
       "    </tr>\n",
       "    <tr>\n",
       "      <th>2018-07-17</th>\n",
       "      <td>56.799999</td>\n",
       "      <td>108.699997</td>\n",
       "      <td>71.699997</td>\n",
       "      <td>11.89</td>\n",
       "      <td>82.690002</td>\n",
       "    </tr>\n",
       "    <tr>\n",
       "      <th>2018-07-18</th>\n",
       "      <td>57.000000</td>\n",
       "      <td>110.099998</td>\n",
       "      <td>72.559998</td>\n",
       "      <td>11.90</td>\n",
       "      <td>82.959999</td>\n",
       "    </tr>\n",
       "    <tr>\n",
       "      <th>2018-07-19</th>\n",
       "      <td>57.400002</td>\n",
       "      <td>112.500000</td>\n",
       "      <td>72.860001</td>\n",
       "      <td>12.08</td>\n",
       "      <td>82.980003</td>\n",
       "    </tr>\n",
       "    <tr>\n",
       "      <th>2018-07-20</th>\n",
       "      <td>55.200001</td>\n",
       "      <td>111.099998</td>\n",
       "      <td>72.519997</td>\n",
       "      <td>12.08</td>\n",
       "      <td>83.080002</td>\n",
       "    </tr>\n",
       "    <tr>\n",
       "      <th>...</th>\n",
       "      <td>...</td>\n",
       "      <td>...</td>\n",
       "      <td>...</td>\n",
       "      <td>...</td>\n",
       "      <td>...</td>\n",
       "    </tr>\n",
       "    <tr>\n",
       "      <th>2019-07-08</th>\n",
       "      <td>21.000000</td>\n",
       "      <td>64.000000</td>\n",
       "      <td>54.340000</td>\n",
       "      <td>5.20</td>\n",
       "      <td>49.299999</td>\n",
       "    </tr>\n",
       "    <tr>\n",
       "      <th>2019-07-09</th>\n",
       "      <td>20.799999</td>\n",
       "      <td>64.800003</td>\n",
       "      <td>54.639999</td>\n",
       "      <td>5.17</td>\n",
       "      <td>49.610001</td>\n",
       "    </tr>\n",
       "    <tr>\n",
       "      <th>2019-07-10</th>\n",
       "      <td>21.400000</td>\n",
       "      <td>67.099998</td>\n",
       "      <td>54.980000</td>\n",
       "      <td>5.39</td>\n",
       "      <td>50.240002</td>\n",
       "    </tr>\n",
       "    <tr>\n",
       "      <th>2019-07-11</th>\n",
       "      <td>21.000000</td>\n",
       "      <td>65.300003</td>\n",
       "      <td>55.439999</td>\n",
       "      <td>5.23</td>\n",
       "      <td>50.439999</td>\n",
       "    </tr>\n",
       "    <tr>\n",
       "      <th>2019-07-12</th>\n",
       "      <td>20.600000</td>\n",
       "      <td>64.000000</td>\n",
       "      <td>55.480000</td>\n",
       "      <td>5.30</td>\n",
       "      <td>51.720001</td>\n",
       "    </tr>\n",
       "  </tbody>\n",
       "</table>\n",
       "<p>250 rows × 5 columns</p>\n",
       "</div>"
      ],
      "text/plain": [
       "                 AXAS         CPE        MPC    OAS        OXY\n",
       "Date                                                          \n",
       "2018-07-16  55.400002  108.599998  71.419998  11.90  82.529999\n",
       "2018-07-17  56.799999  108.699997  71.699997  11.89  82.690002\n",
       "2018-07-18  57.000000  110.099998  72.559998  11.90  82.959999\n",
       "2018-07-19  57.400002  112.500000  72.860001  12.08  82.980003\n",
       "2018-07-20  55.200001  111.099998  72.519997  12.08  83.080002\n",
       "...               ...         ...        ...    ...        ...\n",
       "2019-07-08  21.000000   64.000000  54.340000   5.20  49.299999\n",
       "2019-07-09  20.799999   64.800003  54.639999   5.17  49.610001\n",
       "2019-07-10  21.400000   67.099998  54.980000   5.39  50.240002\n",
       "2019-07-11  21.000000   65.300003  55.439999   5.23  50.439999\n",
       "2019-07-12  20.600000   64.000000  55.480000   5.30  51.720001\n",
       "\n",
       "[250 rows x 5 columns]"
      ]
     },
     "execution_count": 2,
     "metadata": {},
     "output_type": "execute_result"
    }
   ],
   "source": [
    "# Lets start by finding stock with cointegrated proces\n",
    "\n",
    "possible_pairs = ['OXY', 'OAS', 'CPE', 'AXAS', 'MPC'] # Make a list with all the relevant assets\n",
    "financial_information = yf.download(possible_pairs, start = '2018-07-15', end = '2019-07-14') # Retrieve the financial information of the stock from yahoo finance\n",
    "financial_information = financial_information['Close'] # Drop every column that is not closing price\n",
    "financial_information.dropna()\n",
    "financial_information"
   ]
  },
  {
   "cell_type": "code",
   "execution_count": 3,
   "metadata": {},
   "outputs": [
    {
     "data": {
      "text/plain": [
       "<matplotlib.axes._subplots.AxesSubplot at 0x7f9eccf70070>"
      ]
     },
     "execution_count": 3,
     "metadata": {},
     "output_type": "execute_result"
    },
    {
     "data": {
      "image/png": "[encoded data removed]",
      "text/plain": [
       "<Figure size 432x288 with 2 Axes>"
      ]
     },
     "metadata": {
      "needs_background": "light"
     },
     "output_type": "display_data"
    }
   ],
   "source": [
    "def test_cointegration(financial_information):\n",
    "    number_of_assets = financial_information.shape[1]\n",
    "    score_matrix = np.zeros((number_of_assets, number_of_assets))\n",
    "    p_value_matrix = np.ones((number_of_assets, number_of_assets))\n",
    "    keys = financial_information.keys()\n",
    "    pairs = []\n",
    "    for asset in range(number_of_assets):\n",
    "        for possible_cointegrated_asset in range(asset + 1, number_of_assets):\n",
    "            asset_1 = financial_information[keys[asset]]\n",
    "            asset_2 = financial_information[keys[possible_cointegrated_asset]]\n",
    "            cointegration_test_result = coint(asset_1, asset_2)\n",
    "            score = cointegration_test_result[0]\n",
    "            p_value = cointegration_test_result[1]\n",
    "            score_matrix[asset, possible_cointegrated_asset] = score\n",
    "            p_value_matrix[asset, possible_cointegrated_asset] = p_value\n",
    "            if p_value < 0.01:\n",
    "                pairs.append((keys[asset], keys[possible_cointegrated_asset]))\n",
    "        return score_matrix, p_value_matrix, pairs\n",
    "    \n",
    "scores, p_values, pairs = test_cointegration(financial_information)\n",
    "seaborn.heatmap(p_values, xticklabels = financial_information.columns, yticklabels = financial_information.columns, cmap = 'mako', mask = (p_values >= 0.01))"
   ]
  },
  {
   "cell_type": "markdown",
   "metadata": {},
   "source": [
    "# Trading Strategy\n",
    "\n",
    "In our corrintegration analysis we have found that AXAS and MPC, and AXAS and OXY are possible pairs with cointegrated priceses, which means that we can use either MPC or OXY in order to calculate a predicted trend for AXAS, for the following example we will use MPC. Knowing this we can go ahead and use our knowledge of cointegration to device a price prediction strategy. For this one in partícular we will use $z-values$ which tell us how many standar deviantiosns away from the mean a value is. This values are calculated as follows.\n",
    "\n",
    "$Z = \\frac{x - \\mu}{\\sigma}$\n",
    "\n",
    "Where:\n",
    "\n",
    "$ Z = $ standard score\n",
    "\n",
    "$ x = $ observed value\n",
    "\n",
    "$ \\mu = $ mean of the sample\n",
    "\n",
    "$ \\sigma = $ standard deviantion of the sample\n",
    "\n",
    "This $z-values$ will help us assess the endency of the stock in the following way, if the $z-value > 1$ the asset's price will fall, but if $z-value < -1$ the asset's price will rise. This is due to the mean reverting secuence we will create by substracting MPC from AXAS, if the observed value is far below the mean, we know it will have to rise in order to keep up with its pair, and the opposite willl happen if the observed value is considerably higher than the mean, it will have to fall in order to revert to the average."
   ]
  },
  {
   "cell_type": "code",
   "execution_count": 4,
   "metadata": {},
   "outputs": [
    {
     "data": {
      "text/plain": [
       "<matplotlib.axes._subplots.AxesSubplot at 0x7f9ecc0437f0>"
      ]
     },
     "execution_count": 4,
     "metadata": {},
     "output_type": "execute_result"
    },
    {
     "data": {
      "image/png": "[encoded data removed]",
      "text/plain": [
       "<Figure size 432x288 with 1 Axes>"
      ]
     },
     "metadata": {
      "needs_background": "light"
     },
     "output_type": "display_data"
    }
   ],
   "source": [
    "normalization = financial_information['AXAS'] - financial_information['MPC'] \n",
    "\n",
    "normalization_moving_average_1 = normalization.rolling(1).mean()\n",
    "normalization_moving_average_30 = normalization.rolling(30).mean()\n",
    "normalization_standar_deviation_30 = normalization.rolling(30).std()\n",
    "\n",
    "z_values = (normalization_moving_average_1-normalization_moving_average_30)/normalization_standar_deviation_30\n",
    "\n",
    "z_values.plot(label = 'Rolling 20 day z score')\n",
    "financial_information['AXAS'].plot(label = 'Stock 2')\n",
    "plt.axhline(z_values.mean(), color = 'b')\n",
    "plt.axhline(1.0, color = 'r', ls = '--')\n",
    "plt.axhline(-1.0, color = 'r', ls = '--')\n",
    "\n",
    "financial_information['AXAS'].plot(label = 'Stock 2')"
   ]
  },
  {
   "cell_type": "markdown",
   "metadata": {},
   "source": [
    "# Testing\n",
    "\n",
    "In order to test this trading algorith, we will select a span of about 100 days, and will for each of these evaluate weather the stock price will rise, fall or remain in the gray area where we can't really predict much."
   ]
  },
  {
   "cell_type": "code",
   "execution_count": 7,
   "metadata": {},
   "outputs": [
    {
     "name": "stdout",
     "output_type": "stream",
     "text": [
      "[*********************100%***********************]  1 of 1 completed\n",
      "(101,)\n",
      "Success = 58, failure = 43, total = 101, acc = 57.42574257425743\n"
     ]
    }
   ],
   "source": [
    "testing_information = yf.download('AXAS', start = '2019-02-17', end = '2019-07-14')\n",
    "testing_information = testing_information['Close']\n",
    "print(testing_information.shape)\n",
    "\n",
    "start_date = datetime.date(2019, 2,17)\n",
    "end_date = datetime.date(2019, 7,14)\n",
    "delta = timedelta(days=1)\n",
    "\n",
    "success = 0\n",
    "failure = 0\n",
    "hedge = 0\n",
    "previous_day = datetime.date(2019, 2,17)\n",
    "\n",
    "while start_date < end_date:\n",
    "    try:\n",
    "        if ((testing_information[start_date.strftime('%Y-%m-%d')] >= testing_information[previous_day.strftime('%Y-%m-%d')]) and (z_values[start_date.strftime('%Y-%m-%d')] <= -1)):\n",
    "            success = success + 1\n",
    "        elif (testing_information[start_date.strftime('%Y-%m-%d')] <= testing_information[previous_day.strftime('%Y-%m-%d')]) and (z_values[start_date.strftime('%Y-%m-%d')] >= 1):\n",
    "            success = success + 1\n",
    "        elif (-1 < z_values[start_date.strftime('%Y-%m-%d')] < 1):\n",
    "            hedge = hedge + 1\n",
    "    except KeyError:\n",
    "        pass\n",
    "        \n",
    "    previous_day = start_date\n",
    "    start_date += delta\n",
    "    failure = testing_information.shape[0] - success - hedge\n",
    "\n",
    "print(f'Success = {success + hedge}, failure = {failure}, total = {testing_information.shape[0]}, acc = {(success + hedge)*100/testing_information.shape[0]}' )"
   ]
  },
  {
   "cell_type": "markdown",
   "metadata": {},
   "source": [
    "# Limitation\n",
    "\n",
    "By doing this, we have learned that pairs trading is a rather good method for price prediction, but it has a very disticnt limitation, there is no haw of accurately predicting price behaviour long-term. This is due to our inhability to predict the $z-values$ in the long-term, in orther to do this we would need to incorporate machine learning elemts to this algorithm. For the moment, we can conclude that pair-trading is a very useful way of predicting short-term rises and falls.\n",
    "\n",
    "Furthermore, while testing we have come to the conclusion that in this particular case, it is a rather uneffective trading method, this is probably because of the cointegration test, since the acceptance criteria is slightly loose, but in the current world-wide circumstances, it has been monstly impossible to find a more closely cointegrated pair. Additionaly, the chosen stock remain rather close to the mean trough the selected time period, making many of the dates not complete succeses because peirs trading relays on this mean-reverting behaviour to predict, which means that a considerable amount of the results are correct, but not useful."
   ]
  },
  {
   "cell_type": "code",
   "execution_count": null,
   "metadata": {},
   "outputs": [],
   "source": []
  }
 ],
 "metadata": {
  "kernelspec": {
   "display_name": "Python 3",
   "language": "python",
   "name": "python3"
  },
  "language_info": {
   "codemirror_mode": {
    "name": "ipython",
    "version": 3
   },
   "file_extension": ".py",
   "mimetype": "text/x-python",
   "name": "python",
   "nbconvert_exporter": "python",
   "pygments_lexer": "ipython3",
   "version": "3.8.5"
  }
 },
 "nbformat": 4,
 "nbformat_minor": 4
}
